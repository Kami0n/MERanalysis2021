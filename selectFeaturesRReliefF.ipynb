{
 "cells": [
  {
   "cell_type": "code",
   "execution_count": 1,
   "metadata": {},
   "outputs": [],
   "source": [
    "# Base Libraries\n",
    "from operator import index\n",
    "import numpy as np \n",
    "import pandas as pd\n",
    "import matplotlib.pyplot as plt\n",
    "import seaborn as sns\n",
    "import os\n",
    "# Transformation\n",
    "from sklearn.preprocessing import MinMaxScaler\n",
    "from sklearn.preprocessing import power_transform\n",
    "from sklearn.pipeline import Pipeline\n",
    "# Feature Selection\n",
    "import sklearn_relief as sr # type: ignore\n",
    "# Models\n",
    "from sklearn.model_selection import train_test_split\n",
    "from sklearn.ensemble import RandomForestRegressor"
   ]
  },
  {
   "cell_type": "code",
   "execution_count": 8,
   "metadata": {},
   "outputs": [],
   "source": [
    "selectVA = 'arousal'\n",
    "#selectVA = 'valence'\n",
    "\n",
    "noFeatures = 10"
   ]
  },
  {
   "cell_type": "code",
   "execution_count": 9,
   "metadata": {},
   "outputs": [],
   "source": [
    "np.set_printoptions(suppress=True)\n",
    "subfolder = 'Dataset/'\n",
    "featuresdf = pd.read_pickle(subfolder+'pickle/199_exported_features_valence_arousal2021.pkl')\n",
    "\n",
    "X = np.array(featuresdf['features'].tolist()) # input\n",
    "Y = np.array(featuresdf[selectVA].tolist())\n",
    "y = Y.T\n",
    "\n",
    "# remove some feature by hand\n",
    "#print(len(X[0]))\n",
    "#for i in range(139, 12, -1): # remove MEL spectrogram\n",
    "#    X = np.delete(X, i, 1) # input\n",
    "#print(len(X[0]))\n",
    "\n",
    "X_train, X_test, y_train, y_test = train_test_split(X,y, test_size = 0.3, random_state = 0)"
   ]
  },
  {
   "cell_type": "code",
   "execution_count": 53,
   "metadata": {},
   "outputs": [],
   "source": [
    "# Filter\n",
    "r = sr.RReliefF(n_features = noFeatures)\n",
    "my_transformed_matrix = r.fit_transform(X_train,y_train)\n",
    "\n"
   ]
  },
  {
   "cell_type": "code",
   "execution_count": 23,
   "metadata": {},
   "outputs": [
    {
     "name": "stdout",
     "output_type": "stream",
     "text": [
      "1261\n",
      "1802\n"
     ]
    }
   ],
   "source": [
    "print(len(my_transformed_matrix))\n",
    "print(len(X))"
   ]
  },
  {
   "cell_type": "code",
   "execution_count": 54,
   "metadata": {},
   "outputs": [
    {
     "name": "stdout",
     "output_type": "stream",
     "text": [
      "10\n",
      "\n",
      "[52, 53, 54, 55, 56, 59, 65, 68, 69, 198]\n"
     ]
    }
   ],
   "source": [
    "indexes = []\n",
    "for value in my_transformed_matrix[0]:\n",
    "    for idx, origVal in enumerate(X_train[0]):\n",
    "        if(value == origVal):\n",
    "            indexes.append(idx)\n",
    "            break\n",
    "indexes.sort()\n",
    "print(len(indexes))\n",
    "print()\n",
    "print(indexes)\n"
   ]
  },
  {
   "cell_type": "code",
   "execution_count": 55,
   "metadata": {},
   "outputs": [
    {
     "name": "stdout",
     "output_type": "stream",
     "text": [
      "1802\n",
      "2\n"
     ]
    }
   ],
   "source": [
    "features = np.array(featuresdf['features'].tolist())\n",
    "\n",
    "selectedFeatures = []\n",
    "for indexExample, example in enumerate(features):\n",
    "    exampleFeatures=[]\n",
    "    for index in indexes:\n",
    "        exampleFeatures.append(example[index])\n",
    "    selectedFeatures.append([exampleFeatures, y[indexExample]])\n",
    "\n",
    "print(len(selectedFeatures))\n",
    "print(len(selectedFeatures[0]))\n",
    "\n",
    "featuresdfNew = pd.DataFrame(selectedFeatures, columns=['features',selectVA])\n",
    "featuresdfNew.to_pickle(subfolder+'pickle/reliefF_'+str(noFeatures)+'_features_wo_MELspectrogram_'+selectVA+'.pkl')\n",
    "#print(featuresdfNew)"
   ]
  },
  {
   "cell_type": "code",
   "execution_count": 4,
   "metadata": {},
   "outputs": [
    {
     "name": "stdout",
     "output_type": "stream",
     "text": [
      "\n",
      "valence 5\n",
      "['MEL spectrogram 66', 'MEL spectrogram 65', 'MEL spectrogram 60', 'MEL spectrogram 80', 'Chroma B']\n",
      "\n",
      "arousal 5\n",
      "['Tonnetz 5y', 'Tonnetz 5x', 'MEL spectrogram 44', 'Chroma B', 'MEL spectrogram 45']\n"
     ]
    }
   ],
   "source": [
    "# Base Libraries\n",
    "from operator import index\n",
    "import numpy as np \n",
    "import pandas as pd\n",
    "# Feature Selection\n",
    "import sklearn_relief as sr # type: ignore\n",
    "# Models\n",
    "from sklearn.model_selection import train_test_split\n",
    "\n",
    "from commonFunctions import featuresTranslation\n",
    "\n",
    "np.set_printoptions(suppress=True)\n",
    "subfolder = 'Dataset/'\n",
    "featuresdf = pd.read_pickle(subfolder+'pickle/199_exported_features_valence_arousal2021.pkl')\n",
    "\n",
    "X = np.array(featuresdf['features'].tolist()) # input\n",
    "\n",
    "# remove some feature by hand\n",
    "#print(len(X[0]))\n",
    "#for i in range(139, 12, -1): # remove MEL spectrogram\n",
    "#    X = np.delete(X, i, 1) # input\n",
    "#print(len(X[0]))\n",
    "\n",
    "VA = ['valence', 'arousal']\n",
    "\n",
    "noFeatures = 5\n",
    "while noFeatures > 0:\n",
    "    for selectVA in VA:\n",
    "        print()\n",
    "        print(selectVA+\" \"+str(noFeatures))\n",
    "        \n",
    "        Y = np.array(featuresdf[selectVA].tolist())\n",
    "        y = Y.T\n",
    "        \n",
    "        X_train, X_features, y_train, y_features = train_test_split(X,y, test_size = 0.2, random_state = 0)\n",
    "        \n",
    "        # RReliefF filter\n",
    "        r = sr.RReliefF(n_features = noFeatures)\n",
    "        my_transformed_matrix = r.fit_transform(X_features,y_features)\n",
    "        \n",
    "        indexes = []\n",
    "        for value in my_transformed_matrix[0]:\n",
    "            for idx, origVal in enumerate(X_features[0]):\n",
    "                if(value == origVal):\n",
    "                    indexes.append(idx)\n",
    "                    break\n",
    "        #print(indexes)\n",
    "        print(featuresTranslation(indexes))\n",
    "        \n",
    "        #indexes.sort()\n",
    "        #features = np.array(featuresdf['features'].tolist())\n",
    "        #selectedFeatures = []\n",
    "        #for indexExample, example in enumerate(features):\n",
    "        #    exampleFeatures=[]\n",
    "        #    for index in indexes:\n",
    "        #        exampleFeatures.append(example[index])\n",
    "        #    selectedFeatures.append([exampleFeatures, y[indexExample]])\n",
    "        \n",
    "        #featuresdfNew = pd.DataFrame(selectedFeatures, columns=['features',selectVA])\n",
    "        #featuresdfNew.to_pickle(subfolder+'pickle/reliefF_'+str(noFeatures)+'_'+selectVA+'.pkl')\n",
    "        \n",
    "        indexes = pd.DataFrame(indexes, columns=['indexes'])\n",
    "        indexes.to_pickle(subfolder+'indexes/reliefF_'+str(noFeatures)+'_'+selectVA+'_indexes.pkl')\n",
    "        \n",
    "    noFeatures -= 10"
   ]
  },
  {
   "cell_type": "code",
   "execution_count": 15,
   "metadata": {},
   "outputs": [
    {
     "name": "stdout",
     "output_type": "stream",
     "text": [
      "{'MEL spectrogram 66': 7, 'MEL spectrogram 53': 6, 'MEL spectrogram 55': 6, 'MEL spectrogram 65': 5, 'Chroma B': 5, 'MEL spectrogram 52': 5, 'Tonnetz 5x': 5, 'MEL spectrogram 74': 5, 'MEL spectrogram 78': 5, 'MEL spectrogram 98': 5, 'MEL spectrogram 5': 5, 'MEL spectrogram 62': 5, 'MEL spectrogram 60': 4, 'MEL spectrogram 80': 4, 'MEL spectrogram 47': 4, 'MEL spectrogram 45': 4, 'MEL spectrogram 57': 4, 'MEL spectrogram 59': 4, 'MEL spectrogram 56': 4, 'Chroma C#': 4, 'MEL spectrogram 79': 4, 'Chroma A#': 4, 'Chroma F#': 4, 'Chroma C': 4, 'Chroma E': 4, 'Spectral Contrast 3': 4, 'MEL spectrogram 6': 4, 'MEL spectrogram 87': 4, 'MEL spectrogram 42': 4, 'MEL spectrogram 20': 4, 'MEL spectrogram 69': 4, 'MEL spectrogram 21': 4, 'MEL spectrogram 83': 4, 'MEL spectrogram 12': 4, 'MEL spectrogram 68': 4, 'MEL spectrogram 73': 4, 'MEL spectrogram 58': 4, 'MEL spectrogram 44': 3, 'MEL spectrogram 50': 3, 'MEL spectrogram 51': 3, 'MEL spectrogram 89': 3, 'MEL spectrogram 81': 3, 'Chroma D#': 3, 'MEL spectrogram 3': 3, 'MEL spectrogram 2': 3, 'Chroma F': 3, 'MEL spectrogram 104': 3, 'MEL spectrogram 10': 3, 'Spectral Contrast 4': 3, 'BPM': 3, 'MEL spectrogram 14': 3, 'MEL spectrogram 13': 3, 'MEL spectrogram 23': 3, 'MEL spectrogram 63': 3, 'MEL spectrogram 15': 3, 'MEL spectrogram 11': 3, 'MEL spectrogram 93': 3, 'MEL spectrogram 94': 3, 'MEL spectrogram 41': 3, 'MEL spectrogram 61': 3, 'Chroma G#': 3, 'MEL spectrogram 82': 3, 'MEL spectrogram 54': 3, 'MEL spectrogram 76': 3, 'MEL spectrogram 77': 3, 'MEL spectrogram 26': 3, 'MEL spectrogram 48': 2, 'Tonnetz 5y': 2, 'Chroma G': 2, 'MEL spectrogram 100': 2, 'MEL spectrogram 19': 2, 'Chroma A': 2, 'MEL spectrogram 43': 2, 'MEL spectrogram 27': 2, 'MEL spectrogram 28': 2, 'MEL spectrogram 17': 2, 'MEL spectrogram 72': 2, 'MEL spectrogram 64': 2, 'MEL spectrogram 88': 2, 'MEL spectrogram 16': 2, 'MEL spectrogram 95': 2, 'MEL spectrogram 7': 2, 'MEL spectrogram 18': 2, 'MEL spectrogram 86': 2, 'MEL spectrogram 97': 2, 'MEL spectrogram 75': 2, 'MEL spectrogram 101': 2, 'MEL spectrogram 99': 2, 'Spectral Bandwidth': 2, 'MEL spectrogram 105': 2, 'MEL spectrogram 102': 2, 'Spectral Rolloff': 2, 'MEL spectrogram 107': 2, 'MEL spectrogram 67': 2, 'Chroma D': 2, 'MEL spectrogram 4': 2, 'MEL spectrogram 22': 2, 'MEL spectrogram 84': 2, 'MEL spectrogram 85': 2, 'MEL spectrogram 92': 2, 'MEL spectrogram 91': 2, 'MEL spectrogram 24': 2, 'MEL spectrogram 46': 2, 'MEL spectrogram 25': 2, 'MEL spectrogram 49': 1, 'MEL spectrogram 96': 1, 'MEL spectrogram 1': 1, 'Spectral Contrast 6': 1, 'MEL spectrogram 109': 1, 'MEL spectrogram 106': 1, 'MEL spectrogram 70': 1, 'MEL spectrogram 9': 1, 'Spectral Contrast 5': 1, 'Spectral Contrast 7': 1, 'MEL spectrogram 8': 1, 'MEL spectrogram 90': 1, 'Spectral Contrast 2': 1, 'MEL spectrogram 126': 1, 'MEL spectrogram 125': 1, 'Spectral Contrast 1': 1, 'MEL spectrogram 71': 1, 'MEL spectrogram 115': 1, 'MEL spectrogram 120': 1, 'MEL spectrogram 118': 1, 'MEL spectrogram 114': 1, 'MEL spectrogram 119': 1, 'MEL spectrogram 38': 1, 'MEL spectrogram 113': 1, 'MEL spectrogram 31': 1, 'MFCC 9': 1, 'MEL spectrogram 117': 1, 'MEL spectrogram 122': 1, 'Poly order 0-1': 1, 'MEL spectrogram 30': 1, 'MFCC 3': 1, 'MEL spectrogram 112': 1, 'MEL spectrogram 116': 1, 'MFCC 11': 1, 'MFCC 8': 1, 'Tonnetz m3x': 1, 'MFCC 10': 1, 'MFCC 20': 1}\n"
     ]
    }
   ],
   "source": [
    "import numpy as np\n",
    "np.set_printoptions(suppress=True)\n",
    "import pandas as pd\n",
    "from commonFunctions import featureTranslation\n",
    "\n",
    "subfolder = 'Dataset/'\n",
    "indexesFeatures = 5 # from 5 to 80 -> 90 is special for all features\n",
    "VA = ['valence', 'arousal']\n",
    "selectVA = VA[0]\n",
    "selectionType = \"reliefF\"\n",
    "\n",
    "\n",
    "dictOfFeatId = None\n",
    "\n",
    "while indexesFeatures < 90:\n",
    "    selectedFeatIds = pd.read_pickle(subfolder+'indexes/'+selectionType+'_'+str(indexesFeatures)+'_'+selectVA+'_indexes.pkl')\n",
    "    indexes = np.array(selectedFeatIds['indexes'].tolist()) # read indexes file\n",
    "    \n",
    "    \n",
    "    if dictOfFeatId is None:\n",
    "        dictOfFeatId = { i : 1 for i in indexes }\n",
    "    else:\n",
    "        for feat in indexes:\n",
    "            if feat in dictOfFeatId:\n",
    "                dictOfFeatId[feat] += 1\n",
    "            else:\n",
    "                 dictOfFeatId[feat] = 1\n",
    "        \n",
    "    if(indexesFeatures == 5):\n",
    "        indexesFeatures+=5\n",
    "    else:\n",
    "        indexesFeatures+=10\n",
    "\n",
    "#print(dictOfFeatId)\n",
    "\n",
    "dictOfFeat = {}\n",
    "for featId in dictOfFeatId:\n",
    "    dictOfFeat[featureTranslation(featId)] = dictOfFeatId[featId]\n",
    "    \n",
    "print(dict(sorted(dictOfFeat.items(), key=lambda item: item[1], reverse=True)))\n",
    "\n",
    "\n",
    "\n",
    "\n"
   ]
  }
 ],
 "metadata": {
  "interpreter": {
   "hash": "2db524e06e9f5f4ffedc911c917cb75e12dbc923643829bf417064a77eb14d37"
  },
  "kernelspec": {
   "display_name": "Python 3.8.0 64-bit",
   "name": "python3"
  },
  "language_info": {
   "codemirror_mode": {
    "name": "ipython",
    "version": 3
   },
   "file_extension": ".py",
   "mimetype": "text/x-python",
   "name": "python",
   "nbconvert_exporter": "python",
   "pygments_lexer": "ipython3",
   "version": "3.8.0"
  },
  "orig_nbformat": 4
 },
 "nbformat": 4,
 "nbformat_minor": 2
}
