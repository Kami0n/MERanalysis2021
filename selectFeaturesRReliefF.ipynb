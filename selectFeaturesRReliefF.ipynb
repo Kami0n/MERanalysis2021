{
 "cells": [
  {
   "cell_type": "code",
   "execution_count": 1,
   "metadata": {},
   "outputs": [],
   "source": [
    "# Base Libraries\n",
    "from operator import index\n",
    "import numpy as np \n",
    "import pandas as pd\n",
    "import matplotlib.pyplot as plt\n",
    "import seaborn as sns\n",
    "import os\n",
    "# Transformation\n",
    "from sklearn.preprocessing import MinMaxScaler\n",
    "from sklearn.preprocessing import power_transform\n",
    "from sklearn.pipeline import Pipeline\n",
    "# Feature Selection\n",
    "import sklearn_relief as sr # type: ignore\n",
    "# Models\n",
    "from sklearn.model_selection import train_test_split\n",
    "from sklearn.ensemble import RandomForestRegressor"
   ]
  },
  {
   "cell_type": "code",
   "execution_count": 8,
   "metadata": {},
   "outputs": [],
   "source": [
    "selectVA = 'arousal'\n",
    "#selectVA = 'valence'\n",
    "\n",
    "noFeatures = 10"
   ]
  },
  {
   "cell_type": "code",
   "execution_count": 9,
   "metadata": {},
   "outputs": [],
   "source": [
    "np.set_printoptions(suppress=True)\n",
    "subfolder = 'Dataset/'\n",
    "featuresdf = pd.read_pickle(subfolder+'pickle/199_exported_features_valence_arousal2021.pkl')\n",
    "\n",
    "X = np.array(featuresdf['features'].tolist()) # input\n",
    "Y = np.array(featuresdf[selectVA].tolist())\n",
    "y = Y.T\n",
    "\n",
    "# remove some feature by hand\n",
    "#print(len(X[0]))\n",
    "#for i in range(139, 12, -1): # remove MEL spectrogram\n",
    "#    X = np.delete(X, i, 1) # input\n",
    "#print(len(X[0]))\n",
    "\n",
    "X_train, X_test, y_train, y_test = train_test_split(X,y, test_size = 0.3, random_state = 0)"
   ]
  },
  {
   "cell_type": "code",
   "execution_count": 53,
   "metadata": {},
   "outputs": [],
   "source": [
    "# Filter\n",
    "r = sr.RReliefF(n_features = noFeatures)\n",
    "my_transformed_matrix = r.fit_transform(X_train,y_train)\n",
    "\n"
   ]
  },
  {
   "cell_type": "code",
   "execution_count": 23,
   "metadata": {},
   "outputs": [
    {
     "name": "stdout",
     "output_type": "stream",
     "text": [
      "1261\n",
      "1802\n"
     ]
    }
   ],
   "source": [
    "print(len(my_transformed_matrix))\n",
    "print(len(X))"
   ]
  },
  {
   "cell_type": "code",
   "execution_count": 54,
   "metadata": {},
   "outputs": [
    {
     "name": "stdout",
     "output_type": "stream",
     "text": [
      "10\n",
      "\n",
      "[52, 53, 54, 55, 56, 59, 65, 68, 69, 198]\n"
     ]
    }
   ],
   "source": [
    "indexes = []\n",
    "for value in my_transformed_matrix[0]:\n",
    "    for idx, origVal in enumerate(X_train[0]):\n",
    "        if(value == origVal):\n",
    "            indexes.append(idx)\n",
    "            break\n",
    "indexes.sort()\n",
    "print(len(indexes))\n",
    "print()\n",
    "print(indexes)\n"
   ]
  },
  {
   "cell_type": "code",
   "execution_count": 55,
   "metadata": {},
   "outputs": [
    {
     "name": "stdout",
     "output_type": "stream",
     "text": [
      "1802\n",
      "2\n"
     ]
    }
   ],
   "source": [
    "features = np.array(featuresdf['features'].tolist())\n",
    "\n",
    "selectedFeatures = []\n",
    "for indexExample, example in enumerate(features):\n",
    "    exampleFeatures=[]\n",
    "    for index in indexes:\n",
    "        exampleFeatures.append(example[index])\n",
    "    selectedFeatures.append([exampleFeatures, y[indexExample]])\n",
    "\n",
    "print(len(selectedFeatures))\n",
    "print(len(selectedFeatures[0]))\n",
    "\n",
    "featuresdfNew = pd.DataFrame(selectedFeatures, columns=['features',selectVA])\n",
    "featuresdfNew.to_pickle(subfolder+'pickle/reliefF_'+str(noFeatures)+'_features_wo_MELspectrogram_'+selectVA+'.pkl')\n",
    "#print(featuresdfNew)"
   ]
  },
  {
   "cell_type": "code",
   "execution_count": 4,
   "metadata": {},
   "outputs": [
    {
     "name": "stdout",
     "output_type": "stream",
     "text": [
      "\n",
      "valence 5\n",
      "['MEL spectrogram 66', 'MEL spectrogram 65', 'MEL spectrogram 60', 'MEL spectrogram 80', 'Chroma B']\n",
      "\n",
      "arousal 5\n",
      "['Tonnetz 5y', 'Tonnetz 5x', 'MEL spectrogram 44', 'Chroma B', 'MEL spectrogram 45']\n"
     ]
    }
   ],
   "source": [
    "# Base Libraries\n",
    "from operator import index\n",
    "import numpy as np \n",
    "import pandas as pd\n",
    "# Feature Selection\n",
    "import sklearn_relief as sr # type: ignore\n",
    "# Models\n",
    "from sklearn.model_selection import train_test_split\n",
    "\n",
    "from commonFunctions import featuresTranslation\n",
    "\n",
    "np.set_printoptions(suppress=True)\n",
    "subfolder = 'Dataset/'\n",
    "featuresdf = pd.read_pickle(subfolder+'pickle/199_exported_features_valence_arousal2021.pkl')\n",
    "\n",
    "X = np.array(featuresdf['features'].tolist()) # input\n",
    "\n",
    "# remove some feature by hand\n",
    "#print(len(X[0]))\n",
    "#for i in range(139, 12, -1): # remove MEL spectrogram\n",
    "#    X = np.delete(X, i, 1) # input\n",
    "#print(len(X[0]))\n",
    "\n",
    "VA = ['valence', 'arousal']\n",
    "\n",
    "noFeatures = 5\n",
    "while noFeatures > 0:\n",
    "    for selectVA in VA:\n",
    "        print()\n",
    "        print(selectVA+\" \"+str(noFeatures))\n",
    "        \n",
    "        Y = np.array(featuresdf[selectVA].tolist())\n",
    "        y = Y.T\n",
    "        \n",
    "        X_train, X_features, y_train, y_features = train_test_split(X,y, test_size = 0.2, random_state = 0)\n",
    "        \n",
    "        # RReliefF filter\n",
    "        r = sr.RReliefF(n_features = noFeatures)\n",
    "        my_transformed_matrix = r.fit_transform(X_features,y_features)\n",
    "        \n",
    "        indexes = []\n",
    "        for value in my_transformed_matrix[0]:\n",
    "            for idx, origVal in enumerate(X_features[0]):\n",
    "                if(value == origVal):\n",
    "                    indexes.append(idx)\n",
    "                    break\n",
    "        #print(indexes)\n",
    "        print(featuresTranslation(indexes))\n",
    "        \n",
    "        #indexes.sort()\n",
    "        #features = np.array(featuresdf['features'].tolist())\n",
    "        #selectedFeatures = []\n",
    "        #for indexExample, example in enumerate(features):\n",
    "        #    exampleFeatures=[]\n",
    "        #    for index in indexes:\n",
    "        #        exampleFeatures.append(example[index])\n",
    "        #    selectedFeatures.append([exampleFeatures, y[indexExample]])\n",
    "        \n",
    "        #featuresdfNew = pd.DataFrame(selectedFeatures, columns=['features',selectVA])\n",
    "        #featuresdfNew.to_pickle(subfolder+'pickle/reliefF_'+str(noFeatures)+'_'+selectVA+'.pkl')\n",
    "        \n",
    "        indexes = pd.DataFrame(indexes, columns=['indexes'])\n",
    "        indexes.to_pickle(subfolder+'indexes/reliefF_'+str(noFeatures)+'_'+selectVA+'_indexes.pkl')\n",
    "        \n",
    "    noFeatures -= 10"
   ]
  }
 ],
 "metadata": {
  "interpreter": {
   "hash": "2db524e06e9f5f4ffedc911c917cb75e12dbc923643829bf417064a77eb14d37"
  },
  "kernelspec": {
   "display_name": "Python 3.8.0 64-bit",
   "name": "python3"
  },
  "language_info": {
   "codemirror_mode": {
    "name": "ipython",
    "version": 3
   },
   "file_extension": ".py",
   "mimetype": "text/x-python",
   "name": "python",
   "nbconvert_exporter": "python",
   "pygments_lexer": "ipython3",
   "version": "3.8.0"
  },
  "orig_nbformat": 4
 },
 "nbformat": 4,
 "nbformat_minor": 2
}
