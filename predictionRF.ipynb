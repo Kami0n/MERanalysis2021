{
 "cells": [
  {
   "cell_type": "code",
   "execution_count": 1,
   "metadata": {},
   "outputs": [
    {
     "name": "stdout",
     "output_type": "stream",
     "text": [
      "005.mp3\n",
      "019.mp3\n",
      "084.mp3\n",
      "179.mp3\n",
      "192.mp3\n",
      "299.mp3\n"
     ]
    }
   ],
   "source": [
    "import numpy as np\n",
    "import pandas as pd\n",
    "import joblib\n",
    "from os import listdir\n",
    "from os.path import isfile, join\n",
    "from commonFunctions import musicFeatureExtraction\n",
    "from commonFunctions import displayVAgraph\n",
    "\n",
    "#spremenljivke\n",
    "from commonFunctions import subfolderName\n",
    "from commonFunctions import showResults\n",
    "subfolder = subfolderName\n",
    "\n",
    "onlyfiles = [f for f in listdir(subfolder) if isfile(join(subfolder, f)) and \".mp3\" in f]\n",
    "\n",
    "allFeatures = []\n",
    "for fileName in onlyfiles:\n",
    "    print(fileName)\n",
    "    data = musicFeatureExtraction(subfolder+str(fileName))\n",
    "    allFeatures.append([fileName, data])\n",
    "\n",
    "featuresdf = pd.DataFrame(allFeatures, columns=['id','features'])\n",
    "featuresdf = featuresdf.set_index(['id'])\n"
   ]
  },
  {
   "cell_type": "code",
   "execution_count": null,
   "metadata": {},
   "outputs": [],
   "source": [
    "\n",
    "indexesFeatures = 5\n",
    "regressionType = \"RF\"\n",
    "selectionType = \"corelation\"\n",
    "VA = ['valence', 'arousal']\n",
    "\n",
    "for selectVA in VA:\n",
    "    \n",
    "    selectedFeatIds = pd.read_pickle('Dataset/indexes/'+selectionType+'_'+str(indexesFeatures)+'_'+selectVA+'_indexes.pkl')\n",
    "    indexes = np.array(selectedFeatIds['indexes'].tolist()) # read indexes file\n",
    "    \n",
    "    X_pred = np.array(featuresdf['features'].tolist()) # input\n",
    "    X_pred_filtered = X_pred[:, indexes]# filter features by index\n",
    "    X_pred = X_pred_filtered\n",
    "    \n",
    "    model = joblib.load('./models/FULL/modelRF_'+selectVA+'_5_corelation.joblib')\n",
    "    predictions = model.predict(X_pred)\n",
    "    \n",
    "    if selectVA == 'valence':\n",
    "        predictions_valence = predictions\n",
    "        npValence = np.round(np.array(predictions),2)\n",
    "    else:\n",
    "        predictions_arousal = predictions\n",
    "        npArousal = np.round(np.array(predictions),2)\n"
   ]
  },
  {
   "cell_type": "code",
   "execution_count": null,
   "metadata": {},
   "outputs": [],
   "source": [
    "\n",
    "\n",
    "# od tukaj do printa je samo za prikaz !\n",
    "combined = np.vstack((npValence, npArousal)).T\n",
    "\n",
    "names = [x.replace('.mp3', '') for x in onlyfiles]\n",
    "\n",
    "dataValenceArousal = pd.DataFrame(data=combined, index=names, columns=['valence', 'arousal']) \n",
    "print(dataValenceArousal.sort_index())\n",
    "\n",
    "# displayVAgraph(valence, arousal, names, min, max)\n",
    "displayVAgraph( predictions_valence, predictions_arousal, names, -1, 1 )\n",
    "\n",
    "if showResults:\n",
    "    from commonFunctions import rezultatiTestData\n",
    "    rezultatiTestData(predictions_valence, predictions_arousal)"
   ]
  }
 ],
 "metadata": {
  "interpreter": {
   "hash": "2db524e06e9f5f4ffedc911c917cb75e12dbc923643829bf417064a77eb14d37"
  },
  "kernelspec": {
   "display_name": "Python 3.8.0 64-bit",
   "name": "python3"
  },
  "language_info": {
   "codemirror_mode": {
    "name": "ipython",
    "version": 3
   },
   "file_extension": ".py",
   "mimetype": "text/x-python",
   "name": "python",
   "nbconvert_exporter": "python",
   "pygments_lexer": "ipython3",
   "version": "3.8.0"
  },
  "orig_nbformat": 4
 },
 "nbformat": 4,
 "nbformat_minor": 2
}
